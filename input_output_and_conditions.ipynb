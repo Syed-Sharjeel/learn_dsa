{
 "cells": [
  {
   "cell_type": "markdown",
   "id": "c6b1099e",
   "metadata": {},
   "source": [
    "## **Input and Output Statements**\n",
    "\n",
    "- `print()` is used for printing\n",
    "- `input()` is used for input"
   ]
  },
  {
   "cell_type": "code",
   "execution_count": 1,
   "id": "ed531f0e",
   "metadata": {},
   "outputs": [
    {
     "name": "stdout",
     "output_type": "stream",
     "text": [
      "electrical\n"
     ]
    }
   ],
   "source": [
    "my_department = input('Enter Your Department: ')\n",
    "print(my_department)"
   ]
  },
  {
   "cell_type": "markdown",
   "id": "43b40011",
   "metadata": {},
   "source": [
    "---"
   ]
  },
  {
   "cell_type": "markdown",
   "id": "6df94bef",
   "metadata": {},
   "source": [
    "## **Conditions**\n",
    "- if()\n",
    "- if-else()\n",
    "- if-elif-else()"
   ]
  },
  {
   "cell_type": "markdown",
   "id": "36adc7db",
   "metadata": {},
   "source": [
    "**Task** Write a program which guess either the entered number is lesser than, greater than or equal to 12"
   ]
  },
  {
   "cell_type": "code",
   "execution_count": 1,
   "id": "dc608164",
   "metadata": {},
   "outputs": [
    {
     "name": "stdout",
     "output_type": "stream",
     "text": [
      "Number is 12\n"
     ]
    }
   ],
   "source": [
    "num = int(input('Enter Number: '))\n",
    "\n",
    "if num == 12:\n",
    "    print('Number is 12')\n",
    "elif num > 12:\n",
    "    print('Greater than 12')\n",
    "elif num < 12:\n",
    "    print('Lesser than 12')"
   ]
  },
  {
   "cell_type": "markdown",
   "id": "d91a4cd9",
   "metadata": {},
   "source": [
    "<div style=\"border: 2px solid #4CAF50; padding: 10px; border-radius: 8px; background-color: #e8f5e9; color: #2e7d32;\">\n",
    "  ✅ <strong>Congratulations</strong> You learned how to apply the conditions and control the flow of python program\n",
    "</div>\n"
   ]
  }
 ],
 "metadata": {
  "kernelspec": {
   "display_name": "base",
   "language": "python",
   "name": "python3"
  },
  "language_info": {
   "codemirror_mode": {
    "name": "ipython",
    "version": 3
   },
   "file_extension": ".py",
   "mimetype": "text/x-python",
   "name": "python",
   "nbconvert_exporter": "python",
   "pygments_lexer": "ipython3",
   "version": "3.12.7"
  }
 },
 "nbformat": 4,
 "nbformat_minor": 5
}
