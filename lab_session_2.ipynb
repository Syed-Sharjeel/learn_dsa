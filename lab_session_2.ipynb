{
 "cells": [
  {
   "cell_type": "code",
   "execution_count": null,
   "id": "2d3d4d40",
   "metadata": {},
   "outputs": [],
   "source": [
    "#  Data Structures & Algorithm (Lab Session 2) - Codelab Notebook\n",
    "#  Repository: Syed-Sharjeel/learn_dsa (Intro to Python)\n",
    "#  Author: Hafiz Syed Sharjeel Najam\n",
    "#  Year: 2025"
   ]
  },
  {
   "cell_type": "markdown",
   "id": "fb34d1f3",
   "metadata": {},
   "source": [
    "# Lab Session 2"
   ]
  },
  {
   "cell_type": "markdown",
   "id": "9ff70c94",
   "metadata": {},
   "source": [
    "**Question 1)** Write a program which could generate the following pattern. [hint: use ‘end’ option in print command] \n",
    "\n",
    "```text\n",
    "*\n",
    "**\n",
    "***\n",
    "****\n",
    "*****\n",
    "******\n",
    "*******\n",
    "********\n",
    "*********\n",
    "**********\n",
    "***********\n",
    "**********\n",
    "*********\n",
    "********\n",
    "*******\n",
    "******\n",
    "*****\n",
    "****\n",
    "***\n",
    "**\n",
    "*\n"
   ]
  },
  {
   "cell_type": "code",
   "execution_count": 7,
   "id": "6b0ec124",
   "metadata": {},
   "outputs": [
    {
     "name": "stdout",
     "output_type": "stream",
     "text": [
      "\n",
      "*\n",
      "**\n",
      "***\n",
      "****\n",
      "*****\n",
      "******\n",
      "*******\n",
      "********\n",
      "*********\n",
      "**********\n",
      "***********\n",
      "**********\n",
      "*********\n",
      "********\n",
      "*******\n",
      "******\n",
      "*****\n",
      "****\n",
      "***\n",
      "**\n",
      "*\n"
     ]
    }
   ],
   "source": [
    "for i in range (0,11):\n",
    "    print('*'*i)\n",
    "for i in range (0,11):\n",
    "    print('*'*(11-i))"
   ]
  },
  {
   "cell_type": "markdown",
   "id": "59ce51f4",
   "metadata": {},
   "source": [
    "**Question 2)** Write a program which can generate the following \n",
    "```text\n",
    "Input a number: 10 \n",
    "10 x 1 = 10 \n",
    "10 x 2 = 20 \n",
    "10 x 3 = 30 \n",
    "10 x 4 = 40 \n",
    "10 x 5 = 50 \n",
    "10 x 6 = 60 \n",
    "10 x 7 = 70 \n",
    "10 x 8 = 80 \n",
    "10 x 9 = 90 \n",
    "10 x 10 = 100 "
   ]
  },
  {
   "cell_type": "code",
   "execution_count": 1,
   "id": "5a41a347",
   "metadata": {},
   "outputs": [
    {
     "name": "stdout",
     "output_type": "stream",
     "text": [
      "10 x 1 = 10\n",
      "10 x 2 = 20\n",
      "10 x 3 = 30\n",
      "10 x 4 = 40\n",
      "10 x 5 = 50\n",
      "10 x 6 = 60\n",
      "10 x 7 = 70\n",
      "10 x 8 = 80\n",
      "10 x 9 = 90\n",
      "10 x 10 = 100\n"
     ]
    }
   ],
   "source": [
    "num = int(input('Enter a number: '))\n",
    "for i in range(1, 11):\n",
    "    print(f'{num} x {i} = {num*i}')"
   ]
  },
  {
   "cell_type": "markdown",
   "id": "54862c5c",
   "metadata": {},
   "source": [
    "**Question 3)** Write a program to prompt for a score between 0.0 and 1.0. If the score is out of range, \n",
    "print an error message. If the score is between 0.0 and 1.0, print a grade using the \n",
    "following table: \n",
    "```text\n",
    ">= 0.9 A \n",
    ">= 0.8 B \n",
    ">= 0.7 C \n",
    ">= 0.6 D \n",
    "< 0.6 F \n",
    "Enter score: 0.95 \n",
    "A \n",
    "Enter score: perfect \n",
    "Bad score \n",
    "Enter score: 10.0 \n",
    "Bad score \n",
    "Enter score: 0.75 \n",
    "C \n",
    "Enter score: 0.5 \n",
    "F "
   ]
  },
  {
   "cell_type": "code",
   "execution_count": 5,
   "id": "9ccb9710",
   "metadata": {},
   "outputs": [
    {
     "name": "stdout",
     "output_type": "stream",
     "text": [
      "C\n"
     ]
    }
   ],
   "source": [
    "score = input('Enter score: ')\n",
    "\n",
    "try:\n",
    "    score = float(score)\n",
    "    if score>1.0 or score<0.0:\n",
    "        grade = 'Bad score'\n",
    "    else:\n",
    "        if float(score) >= 0.9:\n",
    "            grade = 'A'\n",
    "        elif float(score) >= 0.8:\n",
    "            grade = 'B'\n",
    "        elif float(score) >= 0.7:\n",
    "            grade = 'C'\n",
    "        elif float(score) >= 0.6:\n",
    "            grade = 'D'\n",
    "        elif float(score) < 0.6 :\n",
    "            grade = 'F'\n",
    "    print(grade)\n",
    "except:\n",
    "    print('Bad Score')"
   ]
  },
  {
   "cell_type": "markdown",
   "id": "dacbb618",
   "metadata": {},
   "source": [
    "**Question 4:** Rewrite the above program using Functions"
   ]
  },
  {
   "cell_type": "code",
   "execution_count": 8,
   "id": "9ef1ba8e",
   "metadata": {},
   "outputs": [],
   "source": [
    "def grade(score):\n",
    "    try:\n",
    "        score = float(score)\n",
    "        if score>1.0 or score<0.0:\n",
    "            return 'bad score'\n",
    "        else:\n",
    "            if float(score) >= 0.9:\n",
    "                grade = 'A'\n",
    "            elif float(score) >= 0.8:\n",
    "                grade = 'B'\n",
    "            elif float(score) >= 0.7:\n",
    "                grade = 'C'\n",
    "            elif float(score) >= 0.6:\n",
    "                grade = 'D'\n",
    "            elif float(score) < 0.6 :\n",
    "                grade = 'F'\n",
    "        return grade\n",
    "    except:\n",
    "        return 'bad score'"
   ]
  },
  {
   "cell_type": "code",
   "execution_count": 10,
   "id": "fb6e0632",
   "metadata": {},
   "outputs": [
    {
     "name": "stdout",
     "output_type": "stream",
     "text": [
      "bad score\n"
     ]
    }
   ],
   "source": [
    "score = input('Enter Score: ')\n",
    "print(grade(score))"
   ]
  },
  {
   "cell_type": "markdown",
   "id": "e6de5008",
   "metadata": {},
   "source": [
    "**Question 5** Write python program to calculate the factorial of a number using recursive approach"
   ]
  },
  {
   "cell_type": "code",
   "execution_count": 11,
   "id": "9356724d",
   "metadata": {},
   "outputs": [],
   "source": [
    "def factorial(num):\n",
    "    fact = 1\n",
    "    if num == 0:\n",
    "        return 1\n",
    "    elif num == 1:\n",
    "        return 1\n",
    "    elif num > 1:\n",
    "        return num * factorial(num-1)"
   ]
  },
  {
   "cell_type": "code",
   "execution_count": 15,
   "id": "610cf30a",
   "metadata": {},
   "outputs": [
    {
     "name": "stdout",
     "output_type": "stream",
     "text": [
      "factorial of 12 is: 479001600\n"
     ]
    }
   ],
   "source": [
    "n = int(input(('Enter any Integer: ')))\n",
    "print('factorial of', n, 'is:', factorial(n))"
   ]
  },
  {
   "cell_type": "markdown",
   "id": "e51b5d26",
   "metadata": {},
   "source": [
    "**Question 6:** Write a function which can search for an entry in a list. Also show the entry count in the list. "
   ]
  },
  {
   "cell_type": "code",
   "execution_count": 16,
   "id": "1fbcd6aa",
   "metadata": {},
   "outputs": [
    {
     "name": "stdout",
     "output_type": "stream",
     "text": [
      "apple found in list on index 0\n"
     ]
    }
   ],
   "source": [
    "# Method 1\n",
    "favourite_fruits = ['apple', 'banana', 'cherry', 'orange', 'mango', 'pineapple']\n",
    "def search_1(fruit, favourite_fruits):\n",
    "    for i in range(len(favourite_fruits)):\n",
    "        if favourite_fruits[i] == fruit:\n",
    "            return f'{fruit} found in list on index {i}'\n",
    "    else:\n",
    "        return f'{fruit} not found in list'\n",
    "    \n",
    "fruit = input('Enter Fruit: ')\n",
    "print(search_1(fruit, favourite_fruits))"
   ]
  },
  {
   "cell_type": "code",
   "execution_count": 17,
   "id": "bc3678b2",
   "metadata": {},
   "outputs": [
    {
     "name": "stdout",
     "output_type": "stream",
     "text": [
      "banana found in list on index 1\n"
     ]
    }
   ],
   "source": [
    "# Method 2\n",
    "def search_2(fruit, favourite_fruits):\n",
    "    if fruit in favourite_fruits:\n",
    "        return f'{fruit} found in list on index {favourite_fruits.index(fruit)}'\n",
    "    else:\n",
    "        return f'{fruit} not found in list'\n",
    "\n",
    "fruit = input('Enter Fruit: ')\n",
    "print(search_2(fruit, favourite_fruits))"
   ]
  },
  {
   "cell_type": "markdown",
   "id": "07fd7514",
   "metadata": {},
   "source": [
    "**Question 7:** Develop code in python for sorting a list using selection sort approach. In selection sort \n",
    "you find the minimum value first and place it at the end of the list. "
   ]
  },
  {
   "cell_type": "code",
   "execution_count": 18,
   "id": "537a9efe",
   "metadata": {},
   "outputs": [],
   "source": [
    "def selection_sort(array):\n",
    "    n = len(array)\n",
    "    for i in range(n):\n",
    "        min_index = i\n",
    "        for j in range(i+1, n):\n",
    "            if array[min_index] > array[j]:\n",
    "                min_index = j\n",
    "        array[i], array[min_index] = array[min_index], array[i]\n",
    "    return array\n"
   ]
  },
  {
   "cell_type": "code",
   "execution_count": 21,
   "id": "677b0148",
   "metadata": {},
   "outputs": [
    {
     "data": {
      "text/plain": [
       "[1, 2, 3, 4, 5]"
      ]
     },
     "execution_count": 21,
     "metadata": {},
     "output_type": "execute_result"
    }
   ],
   "source": [
    "selection_sort([5,4,3,2,1])"
   ]
  }
 ],
 "metadata": {
  "kernelspec": {
   "display_name": "base",
   "language": "python",
   "name": "python3"
  },
  "language_info": {
   "codemirror_mode": {
    "name": "ipython",
    "version": 3
   },
   "file_extension": ".py",
   "mimetype": "text/x-python",
   "name": "python",
   "nbconvert_exporter": "python",
   "pygments_lexer": "ipython3",
   "version": "3.12.7"
  }
 },
 "nbformat": 4,
 "nbformat_minor": 5
}
