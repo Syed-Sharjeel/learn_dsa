{
 "cells": [
  {
   "cell_type": "code",
   "execution_count": 1,
   "id": "fad4d08a",
   "metadata": {},
   "outputs": [],
   "source": [
    "# Copyright 2025 Hafiz Syed Sharjeel Najam\n",
    "#\n",
    "# Licensed under the Apache License, Version 2.0 (the \"License\");\n",
    "# you may not use this file except in compliance with the License.\n",
    "# You may obtain a copy of the License at\n",
    "#\n",
    "#     http://www.apache.org/licenses/LICENSE-2.0\n",
    "#\n",
    "# Unless required by applicable law or agreed to in writing, software\n",
    "# distributed under the License is distributed on an \"AS IS\" BASIS,\n",
    "# WITHOUT WARRANTIES OR CONDITIONS OF ANY KIND, either express or implied.\n",
    "# See the License for the specific language governing permissions and\n",
    "# limitations under the License."
   ]
  },
  {
   "cell_type": "code",
   "execution_count": null,
   "id": "f017706d",
   "metadata": {},
   "outputs": [],
   "source": [
    "#  Intro to Python — Codelab Notebook\n",
    "#  Repository: Syed-Sharjeel/learn_dsa (Intro to Python)\n",
    "#  Author: Hafiz Syed Sharjeel Najam\n",
    "#  Year: 2025"
   ]
  },
  {
   "cell_type": "markdown",
   "id": "28d45d18",
   "metadata": {},
   "source": [
    "# **Strings and Operation of Strings**"
   ]
  },
  {
   "cell_type": "markdown",
   "id": "cf0913b6",
   "metadata": {},
   "source": [
    "---"
   ]
  },
  {
   "cell_type": "markdown",
   "id": "5a4c6dd6",
   "metadata": {},
   "source": [
    "### Escape Sequences\n",
    "Escape sequences are special codes you put inside a string to represent characters that are normally hard to type or print.\n",
    "They are typed after backslash `\\`\n",
    "\n",
    "- `\\n` for New line\n",
    "- `\\t` for Tab space\n",
    "- `\\\\` for Backslash\n",
    "- `\\'` for Single quote\n",
    "- `\\\"` for Double quote"
   ]
  },
  {
   "cell_type": "markdown",
   "id": "486368ee",
   "metadata": {},
   "source": [
    "---"
   ]
  },
  {
   "cell_type": "markdown",
   "id": "0d21efd6",
   "metadata": {},
   "source": [
    "### String\n",
    "\n",
    "- This is String: `\"Apple is fruit\"`\n",
    "- This is also String: `'Apple is fruit'`\n",
    "\n",
    "Strings in Python can be enclosed in double quotation `\"\"` and single quotation `''`"
   ]
  },
  {
   "cell_type": "code",
   "execution_count": 2,
   "id": "3afd7564",
   "metadata": {},
   "outputs": [],
   "source": [
    "str_1 = 'This is 1st String'\n",
    "str_2 = \"This is 2nd String\""
   ]
  },
  {
   "cell_type": "code",
   "execution_count": null,
   "id": "fa48a530",
   "metadata": {},
   "outputs": [
    {
     "name": "stdout",
     "output_type": "stream",
     "text": [
      "1st String:  This is 1st String\n",
      "2nd String:  This is 2nd String\n"
     ]
    }
   ],
   "source": [
    "print('1st String:', str_1)\n",
    "print('2nd String:', str_2)"
   ]
  },
  {
   "cell_type": "code",
   "execution_count": 6,
   "id": "cca78955",
   "metadata": {},
   "outputs": [
    {
     "name": "stdout",
     "output_type": "stream",
     "text": [
      "Data Type of str_1: <class 'str'>\n",
      "Data type of str_2 <class 'str'>\n"
     ]
    }
   ],
   "source": [
    "print('Data Type of str_1:', type(str_1))\n",
    "print('Data type of str_2', type(str_2))"
   ]
  },
  {
   "cell_type": "markdown",
   "id": "94c7f2d4",
   "metadata": {},
   "source": [
    "---"
   ]
  },
  {
   "cell_type": "markdown",
   "id": "2a24f45f",
   "metadata": {},
   "source": [
    "## Concatenation of Strings\n",
    "String Concatenation is term for joining two strings into one\n",
    "\n",
    "```text\n",
    "new_string = old_string_1 + old_string_2\n",
    "```"
   ]
  },
  {
   "cell_type": "code",
   "execution_count": 9,
   "id": "fdc84e9b",
   "metadata": {},
   "outputs": [],
   "source": [
    "str_1_str_2 = str_1 + ' ' + str_2"
   ]
  },
  {
   "cell_type": "code",
   "execution_count": 10,
   "id": "3ed722ec",
   "metadata": {},
   "outputs": [
    {
     "name": "stdout",
     "output_type": "stream",
     "text": [
      "This is 1st String This is 2nd String\n"
     ]
    }
   ],
   "source": [
    "print(str_1_str_2)"
   ]
  },
  {
   "cell_type": "markdown",
   "id": "8b583e7a",
   "metadata": {},
   "source": [
    "---"
   ]
  },
  {
   "cell_type": "markdown",
   "id": "12058f5d",
   "metadata": {},
   "source": [
    "## Using Escape Sequences"
   ]
  },
  {
   "cell_type": "code",
   "execution_count": 12,
   "id": "8c5e2b19",
   "metadata": {},
   "outputs": [],
   "source": [
    "my_string = 'This is my \\nfirst PYTHON Program'"
   ]
  },
  {
   "cell_type": "code",
   "execution_count": 13,
   "id": "fbbce652",
   "metadata": {},
   "outputs": [
    {
     "name": "stdout",
     "output_type": "stream",
     "text": [
      "This is my \n",
      "first PYTHON Program\n"
     ]
    }
   ],
   "source": [
    "print(my_string)"
   ]
  },
  {
   "cell_type": "code",
   "execution_count": 14,
   "id": "51af88a4",
   "metadata": {},
   "outputs": [],
   "source": [
    "message = 'Python\\'s syntaxes are easy than others'"
   ]
  },
  {
   "cell_type": "code",
   "execution_count": 15,
   "id": "1e828706",
   "metadata": {},
   "outputs": [
    {
     "name": "stdout",
     "output_type": "stream",
     "text": [
      "Python's syntaxes are easy than others\n"
     ]
    }
   ],
   "source": [
    "print(message)"
   ]
  },
  {
   "cell_type": "code",
   "execution_count": 16,
   "id": "0d7b6e61",
   "metadata": {},
   "outputs": [],
   "source": [
    "city_info = '\\\"Karachi\\\" is the biggest city of Pakistan'"
   ]
  },
  {
   "cell_type": "code",
   "execution_count": 17,
   "id": "7e21f25c",
   "metadata": {},
   "outputs": [
    {
     "name": "stdout",
     "output_type": "stream",
     "text": [
      "\"Karachi\" is the biggest city of Pakistan\n"
     ]
    }
   ],
   "source": [
    "print(city_info)"
   ]
  },
  {
   "cell_type": "markdown",
   "id": "e3bf0e39",
   "metadata": {},
   "source": [
    "---"
   ]
  },
  {
   "cell_type": "markdown",
   "id": "758ed767",
   "metadata": {},
   "source": [
    "## Indexing of Strings\n",
    "\n",
    "- Indices (plural index) is unique address given to each character in strings.\n",
    "- They start from 0.\n",
    "\n",
    "![Index image](https://raw.githubusercontent.com/Syed-Sharjeel/learn_dsa/main/Intro%20to%20Python/images/indexing.png)\n",
    "\n",
    "\n",
    "**Syntax**\n",
    "\n",
    "```text\n",
    "string_name[index]\n",
    "```"
   ]
  },
  {
   "cell_type": "code",
   "execution_count": 18,
   "id": "8440b99e",
   "metadata": {},
   "outputs": [],
   "source": [
    "word = 'pineapple'"
   ]
  },
  {
   "cell_type": "code",
   "execution_count": 21,
   "id": "4a702662",
   "metadata": {},
   "outputs": [
    {
     "name": "stdout",
     "output_type": "stream",
     "text": [
      "\"Word\" has \" e \" on third index\n"
     ]
    }
   ],
   "source": [
    "print('\\\"Word\\\" has \\\"', word[3], '\\\" on third index')"
   ]
  },
  {
   "cell_type": "markdown",
   "id": "74dd498d",
   "metadata": {},
   "source": [
    "### Negative Indexing"
   ]
  },
  {
   "cell_type": "code",
   "execution_count": 34,
   "id": "c346e65e",
   "metadata": {},
   "outputs": [
    {
     "data": {
      "text/plain": [
       "'e'"
      ]
     },
     "execution_count": 34,
     "metadata": {},
     "output_type": "execute_result"
    }
   ],
   "source": [
    "word[-1]"
   ]
  },
  {
   "cell_type": "markdown",
   "id": "02b56825",
   "metadata": {},
   "source": [
    "---"
   ]
  },
  {
   "cell_type": "markdown",
   "id": "9da1fd01",
   "metadata": {},
   "source": [
    "## Slicing in Strings\n",
    "Slicing method is used to extract the specific part of string by index\n",
    "\n",
    "**Syntax**\n",
    "```text\n",
    "string[starting_index : ending_index + 1]\n",
    "```"
   ]
  },
  {
   "cell_type": "code",
   "execution_count": 22,
   "id": "9dd5a98c",
   "metadata": {},
   "outputs": [],
   "source": [
    "sentence = 'Data Structures & Algorithms is the most crucial course in programming'"
   ]
  },
  {
   "cell_type": "code",
   "execution_count": 24,
   "id": "06d5f659",
   "metadata": {},
   "outputs": [
    {
     "name": "stdout",
     "output_type": "stream",
     "text": [
      "Sentence from Index 5 to 6: St\n"
     ]
    }
   ],
   "source": [
    "print('Sentence from Index 5 to 6:', sentence[5:7])\n",
    "# Ending index is 6 therefore 6 + 1 = 7"
   ]
  },
  {
   "cell_type": "code",
   "execution_count": 25,
   "id": "7a4389da",
   "metadata": {},
   "outputs": [
    {
     "name": "stdout",
     "output_type": "stream",
     "text": [
      "All Characters from index 4:  Structures & Algorithms is the most crucial course in programming\n"
     ]
    }
   ],
   "source": [
    "print('All Characters from index 4:', sentence[4:])"
   ]
  },
  {
   "cell_type": "code",
   "execution_count": 27,
   "id": "11284bc1",
   "metadata": {},
   "outputs": [
    {
     "name": "stdout",
     "output_type": "stream",
     "text": [
      "All Characters before index 15: Data Structures \n"
     ]
    }
   ],
   "source": [
    "print('All Characters before index 15:', sentence[ :16])"
   ]
  },
  {
   "cell_type": "markdown",
   "id": "0f904ddf",
   "metadata": {},
   "source": [
    "## Steps in Slicing\n",
    "It tells how much steps to move after each character\n",
    "\n",
    "**Syntax**\n",
    "```text\n",
    "string[starting_index : ending_index + 1 : steps]\n",
    "```"
   ]
  },
  {
   "cell_type": "code",
   "execution_count": 35,
   "id": "d32a859f",
   "metadata": {},
   "outputs": [
    {
     "name": "stdout",
     "output_type": "stream",
     "text": [
      "All Characters after 4 steps: D ur&gt tm c riran\n"
     ]
    }
   ],
   "source": [
    "print('All Characters after 4 steps:', sentence[ : : 4])"
   ]
  },
  {
   "cell_type": "code",
   "execution_count": 37,
   "id": "f1cba593",
   "metadata": {},
   "outputs": [
    {
     "name": "stdout",
     "output_type": "stream",
     "text": [
      "Characters from Index Starting at 4, ending on 20, having 4 steps:  ur&g\n"
     ]
    }
   ],
   "source": [
    "print('Characters from Index Starting at 4, ending on 20, having 4 steps:', sentence[4 : 21 : 4])"
   ]
  },
  {
   "cell_type": "markdown",
   "id": "9f4ba0bd",
   "metadata": {},
   "source": [
    "---"
   ]
  },
  {
   "cell_type": "markdown",
   "id": "b14e0867",
   "metadata": {},
   "source": [
    "## Real World use cases of Slicing and Indexing\n",
    "\n",
    "- Performing operations on phone numbers.\n",
    "- Banking applictaions while performing operations on credit cards.\n",
    "- Verification in OTPs"
   ]
  },
  {
   "cell_type": "markdown",
   "id": "a38f96ed",
   "metadata": {},
   "source": [
    "<div style=\"border: 2px solid #4CAF50; padding: 10px; border-radius: 8px; background-color: #e8f5e9; color: #2e7d32;\">\n",
    "  ✅ <strong>Congratulations!</strong> You learned how to define, and perform operations on strings\n",
    "</div>"
   ]
  }
 ],
 "metadata": {
  "kernelspec": {
   "display_name": "base",
   "language": "python",
   "name": "python3"
  },
  "language_info": {
   "codemirror_mode": {
    "name": "ipython",
    "version": 3
   },
   "file_extension": ".py",
   "mimetype": "text/x-python",
   "name": "python",
   "nbconvert_exporter": "python",
   "pygments_lexer": "ipython3",
   "version": "3.12.7"
  }
 },
 "nbformat": 4,
 "nbformat_minor": 5
}
