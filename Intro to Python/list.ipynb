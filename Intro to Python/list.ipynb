{
 "cells": [
  {
   "cell_type": "markdown",
   "id": "6f55d790",
   "metadata": {},
   "source": [
    "## **List and List Operations**\n",
    "- A list is created by placing all items in square brackets []. \n",
    "- Elements can be added/appended in a list as well. "
   ]
  },
  {
   "cell_type": "code",
   "execution_count": 1,
   "id": "c56aab30",
   "metadata": {},
   "outputs": [
    {
     "name": "stdout",
     "output_type": "stream",
     "text": [
      "['apple', 'banana', 'cherry']\n"
     ]
    }
   ],
   "source": [
    "fruits = ['apple', 'banana', 'cherry']\n",
    "print(fruits)"
   ]
  },
  {
   "cell_type": "markdown",
   "id": "d7afe468",
   "metadata": {},
   "source": [
    "---"
   ]
  },
  {
   "cell_type": "markdown",
   "id": "63cca4ab",
   "metadata": {},
   "source": [
    "### Finding the length of List\n",
    "Length of list the count of how many elements list contains"
   ]
  },
  {
   "cell_type": "code",
   "execution_count": 2,
   "id": "d319a66a",
   "metadata": {},
   "outputs": [
    {
     "name": "stdout",
     "output_type": "stream",
     "text": [
      "Fruits List ['apple', 'banana', 'cherry']\n",
      "fruits list contain 3 fruits\n"
     ]
    }
   ],
   "source": [
    "print('Fruits List', fruits)\n",
    "print('fruits list contain', len(fruits), 'fruits')"
   ]
  },
  {
   "cell_type": "markdown",
   "id": "dc5f6b7c",
   "metadata": {},
   "source": [
    "---"
   ]
  },
  {
   "cell_type": "markdown",
   "id": "ac8816b4",
   "metadata": {},
   "source": [
    "### Finding an Element or Index\n",
    "- using *.index()* function\n",
    "- by accessing element directly from index"
   ]
  },
  {
   "cell_type": "code",
   "execution_count": 3,
   "id": "1db58af4",
   "metadata": {},
   "outputs": [
    {
     "name": "stdout",
     "output_type": "stream",
     "text": [
      "1\n"
     ]
    }
   ],
   "source": [
    "print(fruits.index('banana'))"
   ]
  },
  {
   "cell_type": "code",
   "execution_count": 4,
   "id": "6796ecad",
   "metadata": {},
   "outputs": [
    {
     "name": "stdout",
     "output_type": "stream",
     "text": [
      "Element on Index 0: apple\n"
     ]
    }
   ],
   "source": [
    "print('Element on Index 0:', fruits[0])"
   ]
  },
  {
   "cell_type": "code",
   "execution_count": 5,
   "id": "1407320a",
   "metadata": {},
   "outputs": [
    {
     "name": "stdout",
     "output_type": "stream",
     "text": [
      "Element on Index -1: cherry\n"
     ]
    }
   ],
   "source": [
    "print('Element on Index -1:', fruits[-1]) # Returns last Element"
   ]
  },
  {
   "cell_type": "code",
   "execution_count": 6,
   "id": "bcd22c52",
   "metadata": {},
   "outputs": [
    {
     "name": "stdout",
     "output_type": "stream",
     "text": [
      "Apple found in fruits list 1 time(s)\n"
     ]
    }
   ],
   "source": [
    "print('Apple found in fruits list', fruits.count('apple'), 'time(s)')"
   ]
  },
  {
   "cell_type": "markdown",
   "id": "a4f98313",
   "metadata": {},
   "source": [
    "---"
   ]
  },
  {
   "cell_type": "markdown",
   "id": "cd358486",
   "metadata": {},
   "source": [
    "### Modifying an Element of List\n",
    "Syntax:\n",
    "```text\n",
    "list[index] = new_value\n",
    "```"
   ]
  },
  {
   "cell_type": "code",
   "execution_count": 8,
   "id": "96ed6205",
   "metadata": {},
   "outputs": [
    {
     "name": "stdout",
     "output_type": "stream",
     "text": [
      "Original List: ['apple', 'banana', 'cherry']\n",
      "Updated List: ['peach', 'banana', 'cherry']\n"
     ]
    }
   ],
   "source": [
    "print('Original List:', fruits)\n",
    "fruits[0] = 'peach'\n",
    "print('Updated List:', fruits)"
   ]
  },
  {
   "cell_type": "markdown",
   "id": "4273bbc2",
   "metadata": {},
   "source": [
    "---"
   ]
  },
  {
   "cell_type": "markdown",
   "id": "52bcd036",
   "metadata": {},
   "source": [
    "### Adding an element to list\n",
    "- using *+* operator\n",
    "- using *.append()* function\n",
    "- using *using *insert()* function"
   ]
  },
  {
   "cell_type": "code",
   "execution_count": 9,
   "id": "8cb47ddf",
   "metadata": {},
   "outputs": [
    {
     "name": "stdout",
     "output_type": "stream",
     "text": [
      "Original List: ['peach', 'banana', 'cherry']\n",
      "Updated List:  ['peach', 'banana', 'cherry', 'orange']\n"
     ]
    }
   ],
   "source": [
    "print('Original List:', fruits)\n",
    "fruits += ['orange']\n",
    "print('Updated List: ', fruits)"
   ]
  },
  {
   "cell_type": "code",
   "execution_count": 10,
   "id": "525c343e",
   "metadata": {},
   "outputs": [
    {
     "name": "stdout",
     "output_type": "stream",
     "text": [
      "Original List: ['peach', 'banana', 'cherry', 'orange']\n",
      "Updated List: ['peach', 'banana', 'cherry', 'orange', 'watermelon']\n"
     ]
    }
   ],
   "source": [
    "print('Original List:', fruits)\n",
    "fruits.append('watermelon')\n",
    "print('Updated List:', fruits)"
   ]
  },
  {
   "cell_type": "code",
   "execution_count": 11,
   "id": "297f0e93",
   "metadata": {},
   "outputs": [
    {
     "name": "stdout",
     "output_type": "stream",
     "text": [
      "Original List: ['peach', 'banana', 'cherry', 'orange', 'watermelon']\n",
      "Updated List: ['peach', 'banana', 'cherry', 'orange', 'watermelon', 'mango']\n"
     ]
    }
   ],
   "source": [
    "# insert(index, value)\n",
    "print('Original List:', fruits)\n",
    "fruits.insert(5, 'mango')\n",
    "print('Updated List:', fruits)"
   ]
  },
  {
   "cell_type": "markdown",
   "id": "d6b1bf59",
   "metadata": {},
   "source": [
    "---"
   ]
  },
  {
   "cell_type": "markdown",
   "id": "f7548d7b",
   "metadata": {},
   "source": [
    "### Removing an Element from list\n",
    "- using *remove()* function\n",
    "- using *pop()* function\n",
    "- using *del()* function"
   ]
  },
  {
   "cell_type": "code",
   "execution_count": 13,
   "id": "0e6fdfdb",
   "metadata": {},
   "outputs": [
    {
     "name": "stdout",
     "output_type": "stream",
     "text": [
      "Original List: ['peach', 'banana', 'cherry', 'orange', 'watermelon', 'mango']\n",
      "Updated List: ['peach', 'banana', 'cherry', 'orange', 'watermelon']\n"
     ]
    }
   ],
   "source": [
    "print('Original List:', fruits)\n",
    "fruits.remove('mango')\n",
    "print('Updated List:', fruits)"
   ]
  },
  {
   "cell_type": "code",
   "execution_count": 14,
   "id": "18b1c2d4",
   "metadata": {},
   "outputs": [
    {
     "name": "stdout",
     "output_type": "stream",
     "text": [
      "Original List: ['peach', 'banana', 'cherry', 'orange', 'watermelon']\n",
      "Popped Element: watermelon\n",
      "Updated List: ['peach', 'banana', 'cherry', 'orange']\n"
     ]
    }
   ],
   "source": [
    "print('Original List:', fruits)\n",
    "print('Popped Element:', fruits.pop()) # Returns last element\n",
    "print('Updated List:', fruits)"
   ]
  },
  {
   "cell_type": "code",
   "execution_count": 15,
   "id": "c517aea9",
   "metadata": {},
   "outputs": [
    {
     "name": "stdout",
     "output_type": "stream",
     "text": [
      "Original List: ['peach', 'banana', 'cherry', 'orange']\n",
      "Updated List: ['peach', 'banana', 'cherry']\n"
     ]
    }
   ],
   "source": [
    "print('Original List:', fruits)\n",
    "del fruits[3]\n",
    "print('Updated List:', fruits)"
   ]
  },
  {
   "cell_type": "markdown",
   "id": "4d064a3a",
   "metadata": {},
   "source": [
    "---"
   ]
  },
  {
   "cell_type": "markdown",
   "id": "d7cf7c55",
   "metadata": {},
   "source": [
    "### for() loops in list\n",
    "Syntax:\n",
    "```text\n",
    "for b in b's:\n",
    "```\n",
    "- Here `b` is dummy variable, each time loop runs `b` contain the value of list.\n",
    "- For easy code, good practice is to use dummy variable name singular of list names.\n",
    "For example:\n",
    "```text \n",
    "for cake in cakes\n",
    "for alphabet in alphabets\n",
    "for element in elements\n",
    "```"
   ]
  },
  {
   "cell_type": "code",
   "execution_count": 16,
   "id": "083ab519",
   "metadata": {},
   "outputs": [
    {
     "name": "stdout",
     "output_type": "stream",
     "text": [
      "0 peach\n",
      "1 banana\n",
      "2 cherry\n"
     ]
    }
   ],
   "source": [
    "for fruit in fruits:\n",
    "    print(fruits.index(fruit), fruit)"
   ]
  },
  {
   "cell_type": "markdown",
   "id": "84f76508",
   "metadata": {},
   "source": [
    "---"
   ]
  },
  {
   "cell_type": "markdown",
   "id": "3d80cdb0",
   "metadata": {},
   "source": [
    "### Conditions in Lists\n",
    "Syntax:\n",
    "```text\n",
    "if abc in list\n",
    "if abc not in list\n",
    "```"
   ]
  },
  {
   "cell_type": "code",
   "execution_count": 17,
   "id": "2c1bbd5c",
   "metadata": {},
   "outputs": [
    {
     "name": "stdout",
     "output_type": "stream",
     "text": [
      "Your Favourite fruit not found in list\n"
     ]
    }
   ],
   "source": [
    "input_fruit = input('Enter Your Favourite Fruit: ')\n",
    "if input_fruit in fruits:\n",
    "    print('Your Favourite fruit found in list')\n",
    "else:\n",
    "    print('Your Favourite fruit not found in list')"
   ]
  },
  {
   "cell_type": "markdown",
   "id": "e21482ca",
   "metadata": {},
   "source": [
    "---"
   ]
  },
  {
   "cell_type": "markdown",
   "id": "4ac34780",
   "metadata": {},
   "source": [
    "### List Slicing\n",
    "Syntax\n",
    "```text\n",
    "list_name[start_index:end_index+1]\n",
    "```\n",
    "**For Example:** list = ['A', 'B', 'C', 'D'] and you want to work on only first 3 elements, you have to write as:\n",
    "```text \n",
    "list[0:3] # Output: ['A', 'B', 'C']\n",
    "```"
   ]
  },
  {
   "cell_type": "code",
   "execution_count": 18,
   "id": "c503eb41",
   "metadata": {},
   "outputs": [
    {
     "name": "stdout",
     "output_type": "stream",
     "text": [
      "Original List: ['peach', 'banana', 'cherry']\n",
      "First 2 fruits: ['peach', 'banana']\n"
     ]
    }
   ],
   "source": [
    "print('Original List:', fruits)\n",
    "print('First 2 fruits:', fruits[0:2])"
   ]
  },
  {
   "cell_type": "markdown",
   "id": "fd5a8555",
   "metadata": {},
   "source": [
    "**Important to Note:**"
   ]
  },
  {
   "cell_type": "code",
   "execution_count": 19,
   "id": "12f6afc0",
   "metadata": {},
   "outputs": [
    {
     "data": {
      "text/plain": [
       "['banana', 'cherry']"
      ]
     },
     "execution_count": 19,
     "metadata": {},
     "output_type": "execute_result"
    }
   ],
   "source": [
    "fruits[1:] # Return all Elements starting from index 1"
   ]
  },
  {
   "cell_type": "code",
   "execution_count": 20,
   "id": "71d28e19",
   "metadata": {},
   "outputs": [
    {
     "data": {
      "text/plain": [
       "['peach', 'banana', 'cherry']"
      ]
     },
     "execution_count": 20,
     "metadata": {},
     "output_type": "execute_result"
    }
   ],
   "source": [
    "fruits[:] # Return All Elements"
   ]
  },
  {
   "cell_type": "code",
   "execution_count": 21,
   "id": "513f15e2",
   "metadata": {},
   "outputs": [
    {
     "data": {
      "text/plain": [
       "['peach', 'banana', 'cherry']"
      ]
     },
     "execution_count": 21,
     "metadata": {},
     "output_type": "execute_result"
    }
   ],
   "source": [
    "fruits[:4] # Return all elements before index 4 (index 4 not present in this case therefore returning whole list)"
   ]
  },
  {
   "cell_type": "code",
   "execution_count": 22,
   "id": "48b0513f",
   "metadata": {},
   "outputs": [
    {
     "data": {
      "text/plain": [
       "['banana']"
      ]
     },
     "execution_count": 22,
     "metadata": {},
     "output_type": "execute_result"
    }
   ],
   "source": [
    "fruits[-2:-1] # Also works in negative indexing"
   ]
  },
  {
   "cell_type": "markdown",
   "id": "57e4c34c",
   "metadata": {},
   "source": [
    "<div style=\"border: 2px solid #4CAF50; padding: 10px; border-radius: 8px; background-color: #e8f5e9; color: #2e7d32;\">\n",
    "  ✅ <strong>Congratulations</strong>You learned how to create, update and use lists efficiently\n",
    "</div>\n"
   ]
  },
  {
   "cell_type": "markdown",
   "id": "f7793796",
   "metadata": {},
   "source": []
  }
 ],
 "metadata": {
  "kernelspec": {
   "display_name": "base",
   "language": "python",
   "name": "python3"
  },
  "language_info": {
   "codemirror_mode": {
    "name": "ipython",
    "version": 3
   },
   "file_extension": ".py",
   "mimetype": "text/x-python",
   "name": "python",
   "nbconvert_exporter": "python",
   "pygments_lexer": "ipython3",
   "version": "3.12.7"
  }
 },
 "nbformat": 4,
 "nbformat_minor": 5
}
