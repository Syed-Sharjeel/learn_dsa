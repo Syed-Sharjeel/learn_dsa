{
 "cells": [
  {
   "cell_type": "markdown",
   "id": "99c73c5f",
   "metadata": {},
   "source": [
    "## while() Loop\n",
    "Syntax:\n",
    "```text\n",
    "while stopping_condition:\n",
    "    statements\n",
    "```\n",
    "while() loop is infinite loop and hence required any stopping condition"
   ]
  },
  {
   "cell_type": "markdown",
   "id": "08193dcf",
   "metadata": {},
   "source": [
    "**Task 1** Generate *Fibonacci Series* using *while() loop* upto 1000"
   ]
  },
  {
   "cell_type": "code",
   "execution_count": 1,
   "id": "805263d2",
   "metadata": {},
   "outputs": [
    {
     "name": "stdout",
     "output_type": "stream",
     "text": [
      "1\n",
      "1\n",
      "2\n",
      "3\n",
      "5\n",
      "8\n",
      "13\n",
      "21\n",
      "34\n",
      "55\n",
      "89\n",
      "144\n",
      "233\n",
      "377\n",
      "610\n",
      "987\n"
     ]
    }
   ],
   "source": [
    "a, b = 0, 1\n",
    "while b < 1000:\n",
    "    print(b)\n",
    "    a, b = b, a+b"
   ]
  },
  {
   "cell_type": "markdown",
   "id": "279f088d",
   "metadata": {},
   "source": [
    "---"
   ]
  },
  {
   "cell_type": "markdown",
   "id": "d53dd56c",
   "metadata": {},
   "source": [
    "## for Loop\n",
    "Syntax:\n",
    "```text\n",
    "for i in range (n-1)\n",
    "```\n",
    "- `i` is dummy variable which is just created for loop purpose.\n",
    "- range of for loop starts from 0 and ends on `n-1`. For example: If you want to run loop 100 times, your range should be 101"
   ]
  },
  {
   "cell_type": "markdown",
   "id": "7c81b98a",
   "metadata": {},
   "source": [
    "**Task 2** Print your name 10 times using *for() loop*"
   ]
  },
  {
   "cell_type": "code",
   "execution_count": 2,
   "id": "1e71328e",
   "metadata": {},
   "outputs": [
    {
     "name": "stdout",
     "output_type": "stream",
     "text": [
      "1 your_name_here\n",
      "2 your_name_here\n",
      "3 your_name_here\n",
      "4 your_name_here\n",
      "5 your_name_here\n",
      "6 your_name_here\n",
      "7 your_name_here\n",
      "8 your_name_here\n",
      "9 your_name_here\n",
      "10 your_name_here\n"
     ]
    }
   ],
   "source": [
    "for i in range(1, 11):\n",
    "    print(f'{i} your_name_here')"
   ]
  },
  {
   "cell_type": "markdown",
   "id": "ab0f820d",
   "metadata": {},
   "source": [
    "<div style=\"border: 2px solid #4CAF50; padding: 10px; border-radius: 8px; background-color: #e8f5e9; color: #2e7d32;\">\n",
    "  ✅ <strong>Congratulations</strong>You learned how to use loops in python\n",
    "</div>\n"
   ]
  }
 ],
 "metadata": {
  "kernelspec": {
   "display_name": "base",
   "language": "python",
   "name": "python3"
  },
  "language_info": {
   "codemirror_mode": {
    "name": "ipython",
    "version": 3
   },
   "file_extension": ".py",
   "mimetype": "text/x-python",
   "name": "python",
   "nbconvert_exporter": "python",
   "pygments_lexer": "ipython3",
   "version": "3.12.7"
  }
 },
 "nbformat": 4,
 "nbformat_minor": 5
}
