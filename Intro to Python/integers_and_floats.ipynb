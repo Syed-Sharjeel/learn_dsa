{
 "cells": [
  {
   "cell_type": "code",
   "execution_count": 1,
   "id": "3891c081",
   "metadata": {},
   "outputs": [],
   "source": [
    "# Copyright 2025 Hafiz Syed Sharjeel Najam\n",
    "#\n",
    "# Licensed under the Apache License, Version 2.0 (the \"License\");\n",
    "# you may not use this file except in compliance with the License.\n",
    "# You may obtain a copy of the License at\n",
    "#\n",
    "#     http://www.apache.org/licenses/LICENSE-2.0\n",
    "#\n",
    "# Unless required by applicable law or agreed to in writing, software\n",
    "# distributed under the License is distributed on an \"AS IS\" BASIS,\n",
    "# WITHOUT WARRANTIES OR CONDITIONS OF ANY KIND, either express or implied.\n",
    "# See the License for the specific language governing permissions and\n",
    "# limitations under the License."
   ]
  },
  {
   "cell_type": "code",
   "execution_count": 2,
   "id": "9e79afee",
   "metadata": {},
   "outputs": [],
   "source": [
    "#  Intro to Python — Codelab Notebook\n",
    "#  Repository: Syed-Sharjeel/learn_dsa (Intro to Python)\n",
    "#  Author: Hafiz Syed Sharjeel Najam\n",
    "#  Year: 2025"
   ]
  },
  {
   "cell_type": "markdown",
   "id": "c1991465",
   "metadata": {},
   "source": [
    "# **Integers & Floats**\n",
    "- Integers are whole numbers (i.e Number without decimal points)\n",
    "- **For Example:** `1`, `2`, `3`, `4` are integers\n",
    "- Floats are numbers in points (i.e Number with decimal points)\n",
    "- **For Example:** `1.5`, `2.4`, `3.99`, `86.11` are floats"
   ]
  },
  {
   "cell_type": "code",
   "execution_count": 5,
   "id": "ea5113a4",
   "metadata": {},
   "outputs": [
    {
     "name": "stdout",
     "output_type": "stream",
     "text": [
      "Data Type of 1: <class 'int'>\n",
      "Data Type of 4: <class 'int'>\n"
     ]
    }
   ],
   "source": [
    "print('Data Type of 1:', type(1))       # You can see the data type of any variable using type() function\n",
    "print('Data Type of 4:', type(4))"
   ]
  },
  {
   "cell_type": "code",
   "execution_count": 25,
   "id": "b879b2af",
   "metadata": {},
   "outputs": [
    {
     "name": "stdout",
     "output_type": "stream",
     "text": [
      "Data Type of 1.5: <class 'float'>\n",
      "Data Type of 3.99: <class 'float'>\n"
     ]
    }
   ],
   "source": [
    "print('Data Type of 1.5:', type(1.5))\n",
    "print('Data Type of 3.99:', type(3.99))"
   ]
  },
  {
   "cell_type": "markdown",
   "id": "5f16527e",
   "metadata": {},
   "source": [
    "## Output and Printing\n",
    "Integers are written without any `''` (Single Quotes) and `\"\"` (Double Quotes)\n",
    "\n",
    "**Syntax**\n",
    "```text\n",
    "print(integer)\n",
    "```"
   ]
  },
  {
   "cell_type": "code",
   "execution_count": 3,
   "id": "838d4866",
   "metadata": {},
   "outputs": [
    {
     "name": "stdout",
     "output_type": "stream",
     "text": [
      "5\n"
     ]
    }
   ],
   "source": [
    "print(5)        # Output: 5"
   ]
  },
  {
   "cell_type": "code",
   "execution_count": 26,
   "id": "c35b6c3e",
   "metadata": {},
   "outputs": [
    {
     "name": "stdout",
     "output_type": "stream",
     "text": [
      "100.05\n"
     ]
    }
   ],
   "source": [
    "print(100.05)"
   ]
  },
  {
   "cell_type": "markdown",
   "id": "f57f3a39",
   "metadata": {},
   "source": [
    "## Taking input of Integers and Floats\n",
    "- It is essential to define the data type for any variable while taking input.\n",
    "- By Default, Python assigns string (`str`) datatype to a variable.\n",
    "\n",
    "**Syntax for Integers**\n",
    "```text\n",
    "my_variable = int(input('Input Message'))\n",
    "```\n",
    "\n",
    "**Syntax for Floats**\n",
    "```text\n",
    "my_variable = float(input('Input Message'))\n",
    "```"
   ]
  },
  {
   "cell_type": "code",
   "execution_count": 27,
   "id": "e59cd449",
   "metadata": {},
   "outputs": [
    {
     "name": "stdout",
     "output_type": "stream",
     "text": [
      "Entered Integer: 15 \n",
      " Data Type: <class 'int'>\n"
     ]
    }
   ],
   "source": [
    "my_num = int(input('Enter Integer: '))\n",
    "print('Entered Integer:', my_num, '\\n', 'Data Type:', type(my_num))"
   ]
  },
  {
   "cell_type": "code",
   "execution_count": 28,
   "id": "d8beb2e1",
   "metadata": {},
   "outputs": [
    {
     "name": "stdout",
     "output_type": "stream",
     "text": [
      "Entered Integer: 15.66 \n",
      " Data Type: <class 'float'>\n"
     ]
    }
   ],
   "source": [
    "my_num = float(input('Enter Float: '))\n",
    "print('Entered Integer:', my_num, '\\n', 'Data Type:', type(my_num))"
   ]
  },
  {
   "cell_type": "markdown",
   "id": "d3af39ae",
   "metadata": {},
   "source": [
    "What if we do not assign integer `int` or `float` data type before taking input"
   ]
  },
  {
   "cell_type": "code",
   "execution_count": 9,
   "id": "fec79f08",
   "metadata": {},
   "outputs": [
    {
     "name": "stdout",
     "output_type": "stream",
     "text": [
      "Entered Integer: 15 \n",
      " Data Type: <class 'str'>\n"
     ]
    }
   ],
   "source": [
    "new_num = input('Enter Another Integer: ')\n",
    "print('Entered Integer:', new_num, '\\n', 'Data Type:', type(new_num))"
   ]
  },
  {
   "cell_type": "markdown",
   "id": "a2d13b04",
   "metadata": {},
   "source": [
    "This time, the input is no longer the integer. Though, we entered an integer, but because of not \n",
    "assigning any data type during input, python assigns it to string `(str)` by default."
   ]
  },
  {
   "cell_type": "markdown",
   "id": "bebe78f7",
   "metadata": {},
   "source": [
    "---"
   ]
  },
  {
   "cell_type": "markdown",
   "id": "f3f978a6",
   "metadata": {},
   "source": [
    "## Mathematical Operations on Integers and Floats\n",
    "On integers and floats, we can perform mathematical operations like:\n",
    "| Operation          | Syntax                |\n",
    "|--------------------|-----------------------|\n",
    "| Addition           | `(num_1 + num_2)`     |\n",
    "| Subtraction        | `(num_1 - num_2)`     |\n",
    "| Multiplication     | `(num_1 * num_2)`     |\n",
    "| Division           | `(num_1 / num_2)`     |\n",
    "| Power Calculations | `(base ** power)`     |"
   ]
  },
  {
   "cell_type": "code",
   "execution_count": 30,
   "id": "cccf7560",
   "metadata": {},
   "outputs": [
    {
     "name": "stdout",
     "output_type": "stream",
     "text": [
      "Addition of 5 and 10 is 15\n",
      "Addition of 4.5 and 16.3 is 20.8\n"
     ]
    }
   ],
   "source": [
    "# Additon\n",
    "print('Addition of', 5, 'and', 10, 'is', 5 + 10)\n",
    "print('Addition of', 4.5, 'and', 16.3, 'is', 4.5 + 16.3)"
   ]
  },
  {
   "cell_type": "code",
   "execution_count": 31,
   "id": "068f7148",
   "metadata": {},
   "outputs": [
    {
     "name": "stdout",
     "output_type": "stream",
     "text": [
      "Subtraction of 5 and 10 is -5\n",
      "Subtraction of 4.5 and 16.3 is -11.8\n"
     ]
    }
   ],
   "source": [
    "# Subtraction\n",
    "print('Subtraction of', 5, 'and', 10, 'is', 5 - 10)\n",
    "print('Subtraction of', 4.5, 'and', 16.3, 'is', 4.5 - 16.3)"
   ]
  },
  {
   "cell_type": "code",
   "execution_count": 32,
   "id": "53687192",
   "metadata": {},
   "outputs": [
    {
     "name": "stdout",
     "output_type": "stream",
     "text": [
      "Multiplication of 5 and 10 is 50\n",
      "Multiplication of 4.5 and 16.3 is 73.35000000000001\n"
     ]
    }
   ],
   "source": [
    "# Multiplication\n",
    "print('Multiplication of', 5, 'and', 10, 'is', 5 * 10)\n",
    "print('Multiplication of', 4.5, 'and', 16.3, 'is', 4.5 * 16.3)"
   ]
  },
  {
   "cell_type": "code",
   "execution_count": 34,
   "id": "0d337f90",
   "metadata": {},
   "outputs": [
    {
     "name": "stdout",
     "output_type": "stream",
     "text": [
      "Division of 5 and 10 is 0.5\n",
      "Division of 4.5 and 16.3 is 0.2760736196319018\n"
     ]
    }
   ],
   "source": [
    "# Division\n",
    "print('Division of', 5, 'and', 10, 'is', 5 / 10)\n",
    "print('Division of', 4.5, 'and', 16.3, 'is', 4.5 / 16.3)"
   ]
  },
  {
   "cell_type": "code",
   "execution_count": 37,
   "id": "280319bc",
   "metadata": {},
   "outputs": [
    {
     "name": "stdout",
     "output_type": "stream",
     "text": [
      "5 to power 10 is 9765625\n",
      "2.5 to power 10 is 9536.7431640625\n"
     ]
    }
   ],
   "source": [
    "# Power Calculation\n",
    "print(5, 'to power', 10, 'is', 5**10)\n",
    "print(2.5, 'to power', 10, 'is', 2.5**10)"
   ]
  },
  {
   "cell_type": "markdown",
   "id": "3602a260",
   "metadata": {},
   "source": [
    "---"
   ]
  },
  {
   "cell_type": "markdown",
   "id": "f790f540",
   "metadata": {},
   "source": [
    "## Typecasting\n",
    "\n",
    "Consider we have taken an input as string for any reason\n",
    "```text\n",
    "any_number = input('Enter Number: ')\n",
    "```"
   ]
  },
  {
   "cell_type": "code",
   "execution_count": 22,
   "id": "1224aa4c",
   "metadata": {},
   "outputs": [
    {
     "name": "stdout",
     "output_type": "stream",
     "text": [
      "Data type of 15 is <class 'str'>\n",
      "Data type of 10 is <class 'str'>\n"
     ]
    }
   ],
   "source": [
    "num_1 = input('Enter Number 1: ')\n",
    "num_2 = input('Enter Number 2: ')\n",
    "\n",
    "print('Data type of', num_1, 'is', type(num_1))\n",
    "print('Data type of', num_2, 'is', type(num_2))"
   ]
  },
  {
   "cell_type": "markdown",
   "id": "af78bba4",
   "metadata": {},
   "source": [
    "Now, for converting it into integers, we can typecast both variables\n",
    "\n",
    "**Syntax For Integer**\n",
    "```text\n",
    "any_number_int = int(any_number)\n",
    "```\n",
    "\n",
    "**Syntax For Float**\n",
    "```text\n",
    "any_number_int = float(any_number)\n",
    "```"
   ]
  },
  {
   "cell_type": "code",
   "execution_count": 23,
   "id": "2e09fde7",
   "metadata": {},
   "outputs": [
    {
     "name": "stdout",
     "output_type": "stream",
     "text": [
      "Data type of 15 is <class 'int'>\n",
      "Data type of 10 is <class 'int'>\n"
     ]
    }
   ],
   "source": [
    "int_num_1 = int(num_1)\n",
    "int_num_2 = int(num_2)\n",
    "print('Data type of', num_1, 'is', type(int_num_1))\n",
    "print('Data type of', num_2, 'is', type(int_num_2))"
   ]
  },
  {
   "cell_type": "code",
   "execution_count": 40,
   "id": "1477d3f4",
   "metadata": {},
   "outputs": [
    {
     "name": "stdout",
     "output_type": "stream",
     "text": [
      "Data type of 15 is <class 'float'>\n",
      "Data type of 10 is <class 'float'>\n"
     ]
    }
   ],
   "source": [
    "float_num_1 = float(num_1)\n",
    "float_num_2 = float(num_2)\n",
    "print('Data type of', num_1, 'is', type(int_num_1))\n",
    "print('Data type of', num_2, 'is', type(int_num_2))"
   ]
  },
  {
   "cell_type": "markdown",
   "id": "c2f090c3",
   "metadata": {},
   "source": [
    "Now we can perform any of the integer or float operation on both variables with ease"
   ]
  },
  {
   "cell_type": "markdown",
   "id": "ad83750b",
   "metadata": {},
   "source": [
    "<div style=\"border: 2px solid #4CAF50; padding: 10px; border-radius: 8px; background-color: #e8f5e9; color: #2e7d32;\">\n",
    "  ✅ <strong>Congratulations!</strong> You learned how to define, assign and perform operations on integers and floats\n",
    "</div>"
   ]
  }
 ],
 "metadata": {
  "kernelspec": {
   "display_name": "base",
   "language": "python",
   "name": "python3"
  },
  "language_info": {
   "codemirror_mode": {
    "name": "ipython",
    "version": 3
   },
   "file_extension": ".py",
   "mimetype": "text/x-python",
   "name": "python",
   "nbconvert_exporter": "python",
   "pygments_lexer": "ipython3",
   "version": "3.12.7"
  }
 },
 "nbformat": 4,
 "nbformat_minor": 5
}
